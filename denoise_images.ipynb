{
 "cells": [
  {
   "cell_type": "code",
   "execution_count": 1,
   "metadata": {
    "id": "WRCzG1XSXqAI"
   },
   "outputs": [],
   "source": [
    "import torch\n",
    "from torchvision.transforms import ToTensor\n",
    "from torchvision import datasets\n",
    "from torch.utils.data import DataLoader\n",
    "from torch import nn\n",
    "import torch.nn.functional as F\n",
    "import torch.optim as optim\n",
    "import math\n",
    "from tqdm import tqdm\n",
    "from skimage.metrics import structural_similarity as compute_ssim\n",
    "import matplotlib.pyplot as plt\n",
    "import seaborn as sns"
   ]
  },
  {
   "cell_type": "markdown",
   "metadata": {
    "id": "HHbVpr6_ba4Q"
   },
   "source": [
    "## Prepare the Dataset"
   ]
  },
  {
   "cell_type": "code",
   "execution_count": 2,
   "metadata": {
    "colab": {
     "base_uri": "https://localhost:8080/"
    },
    "id": "vOi0Z8AUlmmS",
    "outputId": "8509eace-6ced-4c13-9fb9-afa685101371"
   },
   "outputs": [
    {
     "name": "stderr",
     "output_type": "stream",
     "text": [
      "100%|██████████| 9.91M/9.91M [00:01<00:00, 5.17MB/s]\n",
      "100%|██████████| 28.9k/28.9k [00:00<00:00, 134kB/s]\n",
      "100%|██████████| 1.65M/1.65M [00:01<00:00, 1.28MB/s]\n",
      "100%|██████████| 4.54k/4.54k [00:00<00:00, 10.9MB/s]\n"
     ]
    }
   ],
   "source": [
    "# Set the device to use GPU if available\n",
    "device = torch.device(\"cuda\" if torch.cuda.is_available() else \"cpu\")\n",
    "\n",
    "# Load the MNIST dataset and normalize the pixel values to the range [0, 1]\n",
    "train_data = datasets.MNIST(root = \".\", download = True, train = True, transform = ToTensor())\n",
    "test_data = datasets.MNIST(root = \".\", download = True, train = False, transform = ToTensor())\n",
    "train_dataloader = DataLoader(train_data, batch_size = 64, shuffle = True)\n",
    "test_dataloader = DataLoader(test_data, batch_size = 64, shuffle = True)"
   ]
  },
  {
   "cell_type": "markdown",
   "metadata": {
    "id": "Lo8H17IBba4R"
   },
   "source": [
    "## Implement the Diffusion Model"
   ]
  },
  {
   "cell_type": "code",
   "execution_count": 3,
   "metadata": {
    "id": "J7lJLxROJuVe"
   },
   "outputs": [],
   "source": [
    "# Noise generator to add Gaussian noise with varying standard deviations\n",
    "def noise_generator(size, std):\n",
    "  noise = torch.randn(size, device = std.device) * std\n",
    "  return noise"
   ]
  },
  {
   "cell_type": "code",
   "execution_count": 4,
   "metadata": {
    "id": "sv-q1uZMfapK"
   },
   "outputs": [],
   "source": [
    "# Define beta - how much noise is added at each time step\n",
    "timestep = 100\n",
    "beta = torch.linspace(0.0001, 0.02, timestep)\n",
    "\n",
    "# Define alpha - how much image is preserved at each time step\n",
    "alpha = 1.0 - beta\n",
    "\n",
    "# Used for calulating forward diffusion process\n",
    "alpha_cumprod = torch.cumprod(alpha, dim = 0)\n",
    "signal_scaling = torch.sqrt(alpha_cumprod)\n",
    "noise_scaling = torch.sqrt(1.0 - alpha_cumprod)\n",
    "\n",
    "# Forward diffusion process to generate noisy images\n",
    "def forward_diffusion(original_image, t):\n",
    "  device = t.device\n",
    "  batch_size = original_image.shape[0]\n",
    "  noise_scaling_t = noise_scaling.to(device)[t].view(batch_size, 1, 1, 1)     # map the shape of [B, C, H, W]\n",
    "  signal_scaling_t = signal_scaling.to(device)[t].view(batch_size, 1, 1, 1)\n",
    "  noise = noise_generator(original_image.shape, noise_scaling_t)\n",
    "  noisy_image = signal_scaling_t * original_image + noise_scaling_t * noise\n",
    "  return noisy_image, noise"
   ]
  },
  {
   "cell_type": "markdown",
   "metadata": {
    "id": "P0PWQFW5ba4R"
   },
   "source": [
    "## Implement U-Net with Transformer"
   ]
  },
  {
   "cell_type": "code",
   "execution_count": 5,
   "metadata": {
    "id": "fl9nDjBm-2yR"
   },
   "outputs": [],
   "source": [
    "# Double convolution apply to downsampling and upsampling\n",
    "class DoubleConv(nn.Module):\n",
    "    def __init__(self, in_ch, out_ch):\n",
    "        super().__init__()\n",
    "        self.conv = nn.Sequential(\n",
    "            nn.Conv2d(in_ch, out_ch, kernel_size = 3, padding = 1),\n",
    "            nn.BatchNorm2d(out_ch),         # Normalizes the output\n",
    "            nn.ReLU(inplace = True),          # ReLU activation\n",
    "            nn.Conv2d(out_ch, out_ch, kernel_size = 3, padding = 1),\n",
    "            nn.BatchNorm2d(out_ch),\n",
    "            nn.ReLU(inplace = True),\n",
    "        )\n",
    "\n",
    "    def forward(self, x):\n",
    "        return self.conv(x)\n",
    "\n",
    "# Downsampling path (encoder)\n",
    "class DownSamp(nn.Module):\n",
    "    def __init__(self, in_ch, out_ch):\n",
    "        super().__init__()\n",
    "        self.pool = nn.MaxPool2d(2)         # Pooling to reduce image size\n",
    "        self.conv = DoubleConv(in_ch, out_ch)\n",
    "\n",
    "    def forward(self, x):\n",
    "        return self.conv(self.pool(x))\n",
    "\n",
    "# Upsampling path (decoder)\n",
    "class UpSamp(nn.Module):\n",
    "    def __init__(self, in_ch, out_ch):\n",
    "        super().__init__()\n",
    "        self.UpSamp = nn.ConvTranspose2d(in_ch, out_ch, 2, stride = 2)        # Compress back to the original image size\n",
    "        self.conv = DoubleConv(in_ch, out_ch)\n",
    "\n",
    "    def forward(self, x1, x2):\n",
    "        x2 = self.UpSamp(x2)\n",
    "        diffY = x1.size()[2] - x2.size()[2]         # Height difference\n",
    "        diffX = x1.size()[3] - x2.size()[3]         # Weight difference\n",
    "        # Calculate padding [left, right, top, bottom]\n",
    "        x2 = F.pad(x2, [diffX // 2, diffX - diffX // 2,\n",
    "                        diffY // 2, diffY - diffY // 2])\n",
    "\n",
    "        # Skip connections\n",
    "        x = torch.cat([x1, x2], dim = 1)\n",
    "        return self.conv(x)\n",
    "\n",
    "# U-Net Process with transformer applied\n",
    "class UNet(nn.Module):\n",
    "    def __init__(self, d_model = 256, num_heads = 4, ff_dim = 512, num_layers = 2, image_size = 28):\n",
    "        super().__init__()\n",
    "        # Encoder\n",
    "        self.conv1 = DoubleConv(1, 64)\n",
    "        self.down1 = DownSamp(64, 128)\n",
    "        self.down2 = DownSamp(128, 256)\n",
    "\n",
    "        self.pos_encoder = PositionalEncoding(d_model, max_len = image_size ** 2)       # Positional encoding to map pixel positions\n",
    "        transform_layer = AttnTransformerLayer(d_model = d_model, nhead = num_heads, dim_feedforward = ff_dim)  # For attention tracking\n",
    "        self.attention_tracker = transform_layer     # Used for attention map visualization\n",
    "        # Transformer\n",
    "        self.transformer = nn.TransformerEncoder(transform_layer, num_layers = num_layers)\n",
    "\n",
    "        # Decoder\n",
    "        self.up1 = UpSamp(256, 128)\n",
    "        self.up2 = UpSamp(128, 64)\n",
    "        self.last_conv = nn.Conv2d(64, 1, 1)\n",
    "\n",
    "    def forward(self, x):\n",
    "        B, C, H, W = x.shape\n",
    "\n",
    "        # Downsampling\n",
    "        x1 = self.conv1(x)\n",
    "        x2 = self.down1(x1)\n",
    "        x3 = self.down2(x2)\n",
    "        # Bottleneck\n",
    "        x3_flat = x3.view(B, -1, x3.shape[1])        # Flatten [B, C, H, W] to [B, N, C] where N = H * W\n",
    "        x3_flat = x3_flat.permute(1, 0, 2)          # [N, B, C]\n",
    "        x3_encoded = self.pos_encoder(x3_flat)          # Positional encoding to map pixel positions\n",
    "        x3_transformed = self.transformer(x3_encoded)       # Transformer\n",
    "        x3_transformed = x3_transformed.permute(1, 2, 0).view(B, -1, x3.shape[2], x3.shape[3])      # Reshape back to [B, C, H, W]\n",
    "        # Upsamling\n",
    "        x1_up = self.up1(x2, x3_transformed)\n",
    "        x2_up = self.up2(x1, x1_up)\n",
    "        # Output\n",
    "        output = self.last_conv(x2_up)\n",
    "        return output"
   ]
  },
  {
   "cell_type": "code",
   "execution_count": 6,
   "metadata": {
    "id": "fL0O8j6TEqar"
   },
   "outputs": [],
   "source": [
    "# Positional Encoding for mapping the spatial location of features\n",
    "class PositionalEncoding(nn.Module):\n",
    "    def __init__(self, d_model: int, dropout: float = 0.1, max_len: int = 1000):\n",
    "        super().__init__()\n",
    "        self.dropout = nn.Dropout(p = dropout)\n",
    "\n",
    "        position = torch.arange(max_len).unsqueeze(1).float()   # Generate position indices\n",
    "        div_term = torch.exp(torch.arange(0, d_model, 2).float() * (-math.log(10000.0) / d_model))  # Calculate div_term with shape d_model // 2\n",
    "\n",
    "        pe = torch.zeros(max_len, 1, d_model)\n",
    "        pe[:, 0, 0::2] = torch.sin(position * div_term)     # Sin for even indices\n",
    "        pe[:, 0, 1::2] = torch.cos(position * div_term)     # Cos for odd indices\n",
    "\n",
    "        self.register_buffer(\"pe\", pe)\n",
    "\n",
    "    def forward(self, x):\n",
    "        x = x + self.pe[:x.size(0)]\n",
    "        return self.dropout(x)\n",
    "\n",
    "# Transformer Encoder Layer to saves attention weights\n",
    "class AttnTransformerLayer(nn.TransformerEncoderLayer):\n",
    "    def __init__(self, *args, **kwargs):\n",
    "        super().__init__(*args, **kwargs)\n",
    "        self.attn_weights = None\n",
    "\n",
    "    def forward(self, x, **kwargs):\n",
    "        attn_out, attn_weights = self.self_attn(x, x, x, need_weights = True)   # Multihead attention\n",
    "        self.attn_weights = attn_weights\n",
    "        x = self.norm1(x + self.dropout1(attn_out))     # Feedforward network\n",
    "        attn_out = self.linear2(self.dropout(self.activation(self.linear1(x))))\n",
    "        x = self.norm2(x + self.dropout2(attn_out))\n",
    "        return x"
   ]
  },
  {
   "cell_type": "markdown",
   "metadata": {
    "id": "uXuSc6Vyba4S"
   },
   "source": [
    "## Training and Testing"
   ]
  },
  {
   "cell_type": "code",
   "execution_count": 7,
   "metadata": {
    "id": "liNBpiX2ba4S"
   },
   "outputs": [],
   "source": [
    "# Train diffusion process + Transformer on the noisy MNIST dataset\n",
    "def trainer(model, optimizer, train_loader, test_loader, criterion, epochs = 5, device = \"cpu\", verbose = True):\n",
    "    model.to(device)\n",
    "    model.train()\n",
    "\n",
    "    for epoch in range(epochs):\n",
    "        model.train()\n",
    "        total_loss = 0\n",
    "        train_count = 0\n",
    "\n",
    "        # Training loop\n",
    "        for images, _ in tqdm(train_dataloader, desc = f\"Training {epoch + 1}/{epochs}\"):\n",
    "            images = images.to(device)\n",
    "\n",
    "            batch_size = images.shape[0]\n",
    "            t = torch.randint(0, timestep, (batch_size,))      # Select random timestep\n",
    "            t = t.to(device)\n",
    "\n",
    "            noisy_image, noise = forward_diffusion(images, t)       # Get noisy image by diffusion\n",
    "            noise_pred = model(noisy_image)       # Model prediction on noise\n",
    "            loss = criterion(noise_pred, noise)         # Calculate loss\n",
    "\n",
    "            # Backpropagation\n",
    "            optimizer.zero_grad()\n",
    "            loss.backward()\n",
    "            optimizer.step()\n",
    "\n",
    "            train_count += batch_size\n",
    "\n",
    "            total_loss += loss.item()\n",
    "        avg_loss =  total_loss / len(train_dataloader)       # Calculate average loss\n",
    "\n",
    "        # Evaluate the model on unseen noisy data\n",
    "        model.eval()\n",
    "        total_mse = 0\n",
    "        total_ssim = 0\n",
    "        test_count = 0\n",
    "\n",
    "        with torch.no_grad():\n",
    "            for images, _ in tqdm(test_dataloader, desc = f\"Testing Epoch {epoch + 1}/{epochs}\"):\n",
    "                images = images.to(device)\n",
    "                batch_size = images.shape[0]\n",
    "\n",
    "                # Add noise in the middle of full time step to test moderate noise removal\n",
    "                mid_step = timestep // 2\n",
    "                t = torch.full((batch_size,), mid_step)\n",
    "                t = t.to(device)\n",
    "\n",
    "                noisy_images, _ = forward_diffusion(images, t)\n",
    "                pred_noise = model(noisy_images)        # Model predict noise\n",
    "                # Denoise with reverse diffusion process\n",
    "                scaling = noise_scaling.to(t.device)[t] / signal_scaling.to(t.device)[t]\n",
    "                denoised_images = noisy_images - pred_noise * scaling.view(-1, 1, 1, 1)\n",
    "\n",
    "                test_count += batch_size\n",
    "\n",
    "                # Calculate evaluation metrics\n",
    "                total_mse += calculate_mse(images, denoised_images) * batch_size\n",
    "                total_ssim += calculate_ssim(images, denoised_images) * batch_size\n",
    "\n",
    "        avg_mse = total_mse / test_count         # Calculate average metrics\n",
    "        avg_ssim = total_ssim / test_count\n",
    "\n",
    "        if verbose:\n",
    "            print(f\"\\nMSE: {avg_mse:.4f} ; SSIM: {avg_ssim:.4f}\\n\")\n",
    "\n",
    "# Calculate mean squared error for batch\n",
    "def calculate_mse(original, reconstructed):\n",
    "    return ((original - reconstructed) ** 2).mean(dim = (1, 2, 3)).mean().item()\n",
    "\n",
    "# Calculate similarity index measure for batch\n",
    "def calculate_ssim(original_batch, reconstructed_batch):\n",
    "    total_ssim = 0\n",
    "    batch_size = original_batch.size(0)\n",
    "\n",
    "    for i in range(batch_size):\n",
    "        original = original_batch[i].squeeze().cpu().numpy()\n",
    "        reconstructed = reconstructed_batch[i].squeeze().cpu().numpy()\n",
    "        total_ssim += compute_ssim(original, reconstructed, data_range = original.max() - original.min())\n",
    "\n",
    "    return total_ssim / batch_size"
   ]
  },
  {
   "cell_type": "code",
   "execution_count": 8,
   "metadata": {
    "colab": {
     "base_uri": "https://localhost:8080/"
    },
    "id": "IzBWfiHN6TLx",
    "outputId": "81b8d340-32a2-4075-bdac-379b308bd0ae"
   },
   "outputs": [
    {
     "name": "stderr",
     "output_type": "stream",
     "text": [
      "/usr/local/lib/python3.11/dist-packages/torch/nn/modules/transformer.py:385: UserWarning: enable_nested_tensor is True, but self.use_nested_tensor is False because encoder_layer.self_attn.batch_first was not True(use batch_first for better inference performance)\n",
      "  warnings.warn(\n",
      "Training 1/50: 100%|██████████| 938/938 [00:18<00:00, 49.66it/s]\n",
      "Testing Epoch 1/50: 100%|██████████| 157/157 [00:05<00:00, 28.86it/s]\n"
     ]
    },
    {
     "name": "stdout",
     "output_type": "stream",
     "text": [
      "\n",
      "MSE: 0.0067 ; SSIM: 0.7634\n",
      "\n"
     ]
    },
    {
     "name": "stderr",
     "output_type": "stream",
     "text": [
      "Training 2/50: 100%|██████████| 938/938 [00:17<00:00, 54.09it/s]\n",
      "Testing Epoch 2/50: 100%|██████████| 157/157 [00:05<00:00, 29.40it/s]\n"
     ]
    },
    {
     "name": "stdout",
     "output_type": "stream",
     "text": [
      "\n",
      "MSE: 0.0069 ; SSIM: 0.7568\n",
      "\n"
     ]
    },
    {
     "name": "stderr",
     "output_type": "stream",
     "text": [
      "Training 3/50: 100%|██████████| 938/938 [00:17<00:00, 54.19it/s]\n",
      "Testing Epoch 3/50: 100%|██████████| 157/157 [00:05<00:00, 29.71it/s]\n"
     ]
    },
    {
     "name": "stdout",
     "output_type": "stream",
     "text": [
      "\n",
      "MSE: 0.0061 ; SSIM: 0.7748\n",
      "\n"
     ]
    },
    {
     "name": "stderr",
     "output_type": "stream",
     "text": [
      "Training 4/50: 100%|██████████| 938/938 [00:17<00:00, 54.25it/s]\n",
      "Testing Epoch 4/50: 100%|██████████| 157/157 [00:05<00:00, 29.78it/s]\n"
     ]
    },
    {
     "name": "stdout",
     "output_type": "stream",
     "text": [
      "\n",
      "MSE: 0.0066 ; SSIM: 0.7638\n",
      "\n"
     ]
    },
    {
     "name": "stderr",
     "output_type": "stream",
     "text": [
      "Training 5/50: 100%|██████████| 938/938 [00:17<00:00, 53.24it/s]\n",
      "Testing Epoch 5/50: 100%|██████████| 157/157 [00:05<00:00, 29.78it/s]\n"
     ]
    },
    {
     "name": "stdout",
     "output_type": "stream",
     "text": [
      "\n",
      "MSE: 0.0065 ; SSIM: 0.7844\n",
      "\n"
     ]
    },
    {
     "name": "stderr",
     "output_type": "stream",
     "text": [
      "Training 6/50: 100%|██████████| 938/938 [00:17<00:00, 54.00it/s]\n",
      "Testing Epoch 6/50: 100%|██████████| 157/157 [00:05<00:00, 29.64it/s]\n"
     ]
    },
    {
     "name": "stdout",
     "output_type": "stream",
     "text": [
      "\n",
      "MSE: 0.0059 ; SSIM: 0.7667\n",
      "\n"
     ]
    },
    {
     "name": "stderr",
     "output_type": "stream",
     "text": [
      "Training 7/50: 100%|██████████| 938/938 [00:17<00:00, 54.25it/s]\n",
      "Testing Epoch 7/50: 100%|██████████| 157/157 [00:05<00:00, 29.09it/s]\n"
     ]
    },
    {
     "name": "stdout",
     "output_type": "stream",
     "text": [
      "\n",
      "MSE: 0.0059 ; SSIM: 0.7865\n",
      "\n"
     ]
    },
    {
     "name": "stderr",
     "output_type": "stream",
     "text": [
      "Training 8/50: 100%|██████████| 938/938 [00:17<00:00, 54.11it/s]\n",
      "Testing Epoch 8/50: 100%|██████████| 157/157 [00:05<00:00, 29.13it/s]\n"
     ]
    },
    {
     "name": "stdout",
     "output_type": "stream",
     "text": [
      "\n",
      "MSE: 0.0060 ; SSIM: 0.7875\n",
      "\n"
     ]
    },
    {
     "name": "stderr",
     "output_type": "stream",
     "text": [
      "Training 9/50: 100%|██████████| 938/938 [00:17<00:00, 54.01it/s]\n",
      "Testing Epoch 9/50: 100%|██████████| 157/157 [00:05<00:00, 29.23it/s]\n"
     ]
    },
    {
     "name": "stdout",
     "output_type": "stream",
     "text": [
      "\n",
      "MSE: 0.0059 ; SSIM: 0.7986\n",
      "\n"
     ]
    },
    {
     "name": "stderr",
     "output_type": "stream",
     "text": [
      "Training 10/50: 100%|██████████| 938/938 [00:17<00:00, 54.06it/s]\n",
      "Testing Epoch 10/50: 100%|██████████| 157/157 [00:05<00:00, 29.63it/s]\n"
     ]
    },
    {
     "name": "stdout",
     "output_type": "stream",
     "text": [
      "\n",
      "MSE: 0.0060 ; SSIM: 0.7863\n",
      "\n"
     ]
    },
    {
     "name": "stderr",
     "output_type": "stream",
     "text": [
      "Training 11/50: 100%|██████████| 938/938 [00:17<00:00, 54.06it/s]\n",
      "Testing Epoch 11/50: 100%|██████████| 157/157 [00:05<00:00, 29.84it/s]\n"
     ]
    },
    {
     "name": "stdout",
     "output_type": "stream",
     "text": [
      "\n",
      "MSE: 0.0060 ; SSIM: 0.7899\n",
      "\n"
     ]
    },
    {
     "name": "stderr",
     "output_type": "stream",
     "text": [
      "Training 12/50: 100%|██████████| 938/938 [00:17<00:00, 53.66it/s]\n",
      "Testing Epoch 12/50: 100%|██████████| 157/157 [00:05<00:00, 29.37it/s]\n"
     ]
    },
    {
     "name": "stdout",
     "output_type": "stream",
     "text": [
      "\n",
      "MSE: 0.0063 ; SSIM: 0.7963\n",
      "\n"
     ]
    },
    {
     "name": "stderr",
     "output_type": "stream",
     "text": [
      "Training 13/50: 100%|██████████| 938/938 [00:17<00:00, 53.10it/s]\n",
      "Testing Epoch 13/50: 100%|██████████| 157/157 [00:05<00:00, 29.75it/s]\n"
     ]
    },
    {
     "name": "stdout",
     "output_type": "stream",
     "text": [
      "\n",
      "MSE: 0.0060 ; SSIM: 0.8039\n",
      "\n"
     ]
    },
    {
     "name": "stderr",
     "output_type": "stream",
     "text": [
      "Training 14/50: 100%|██████████| 938/938 [00:17<00:00, 53.64it/s]\n",
      "Testing Epoch 14/50: 100%|██████████| 157/157 [00:05<00:00, 28.92it/s]\n"
     ]
    },
    {
     "name": "stdout",
     "output_type": "stream",
     "text": [
      "\n",
      "MSE: 0.0059 ; SSIM: 0.7778\n",
      "\n"
     ]
    },
    {
     "name": "stderr",
     "output_type": "stream",
     "text": [
      "Training 15/50: 100%|██████████| 938/938 [00:17<00:00, 53.62it/s]\n",
      "Testing Epoch 15/50: 100%|██████████| 157/157 [00:05<00:00, 29.64it/s]\n"
     ]
    },
    {
     "name": "stdout",
     "output_type": "stream",
     "text": [
      "\n",
      "MSE: 0.0059 ; SSIM: 0.7964\n",
      "\n"
     ]
    },
    {
     "name": "stderr",
     "output_type": "stream",
     "text": [
      "Training 16/50: 100%|██████████| 938/938 [00:17<00:00, 54.70it/s]\n",
      "Testing Epoch 16/50: 100%|██████████| 157/157 [00:05<00:00, 29.62it/s]\n"
     ]
    },
    {
     "name": "stdout",
     "output_type": "stream",
     "text": [
      "\n",
      "MSE: 0.0062 ; SSIM: 0.7939\n",
      "\n"
     ]
    },
    {
     "name": "stderr",
     "output_type": "stream",
     "text": [
      "Training 17/50: 100%|██████████| 938/938 [00:17<00:00, 54.66it/s]\n",
      "Testing Epoch 17/50: 100%|██████████| 157/157 [00:05<00:00, 29.56it/s]\n"
     ]
    },
    {
     "name": "stdout",
     "output_type": "stream",
     "text": [
      "\n",
      "MSE: 0.0058 ; SSIM: 0.7964\n",
      "\n"
     ]
    },
    {
     "name": "stderr",
     "output_type": "stream",
     "text": [
      "Training 18/50: 100%|██████████| 938/938 [00:17<00:00, 54.23it/s]\n",
      "Testing Epoch 18/50: 100%|██████████| 157/157 [00:05<00:00, 29.41it/s]\n"
     ]
    },
    {
     "name": "stdout",
     "output_type": "stream",
     "text": [
      "\n",
      "MSE: 0.0058 ; SSIM: 0.7873\n",
      "\n"
     ]
    },
    {
     "name": "stderr",
     "output_type": "stream",
     "text": [
      "Training 19/50: 100%|██████████| 938/938 [00:17<00:00, 53.45it/s]\n",
      "Testing Epoch 19/50: 100%|██████████| 157/157 [00:05<00:00, 29.41it/s]\n"
     ]
    },
    {
     "name": "stdout",
     "output_type": "stream",
     "text": [
      "\n",
      "MSE: 0.0060 ; SSIM: 0.7837\n",
      "\n"
     ]
    },
    {
     "name": "stderr",
     "output_type": "stream",
     "text": [
      "Training 20/50: 100%|██████████| 938/938 [00:17<00:00, 53.31it/s]\n",
      "Testing Epoch 20/50: 100%|██████████| 157/157 [00:05<00:00, 29.19it/s]\n"
     ]
    },
    {
     "name": "stdout",
     "output_type": "stream",
     "text": [
      "\n",
      "MSE: 0.0062 ; SSIM: 0.7792\n",
      "\n"
     ]
    },
    {
     "name": "stderr",
     "output_type": "stream",
     "text": [
      "Training 21/50: 100%|██████████| 938/938 [00:18<00:00, 51.23it/s]\n",
      "Testing Epoch 21/50: 100%|██████████| 157/157 [00:05<00:00, 29.15it/s]\n"
     ]
    },
    {
     "name": "stdout",
     "output_type": "stream",
     "text": [
      "\n",
      "MSE: 0.0060 ; SSIM: 0.7721\n",
      "\n"
     ]
    },
    {
     "name": "stderr",
     "output_type": "stream",
     "text": [
      "Training 22/50: 100%|██████████| 938/938 [00:17<00:00, 53.71it/s]\n",
      "Testing Epoch 22/50: 100%|██████████| 157/157 [00:05<00:00, 29.42it/s]\n"
     ]
    },
    {
     "name": "stdout",
     "output_type": "stream",
     "text": [
      "\n",
      "MSE: 0.0058 ; SSIM: 0.7785\n",
      "\n"
     ]
    },
    {
     "name": "stderr",
     "output_type": "stream",
     "text": [
      "Training 23/50: 100%|██████████| 938/938 [00:17<00:00, 54.23it/s]\n",
      "Testing Epoch 23/50: 100%|██████████| 157/157 [00:05<00:00, 29.52it/s]\n"
     ]
    },
    {
     "name": "stdout",
     "output_type": "stream",
     "text": [
      "\n",
      "MSE: 0.0057 ; SSIM: 0.8083\n",
      "\n"
     ]
    },
    {
     "name": "stderr",
     "output_type": "stream",
     "text": [
      "Training 24/50: 100%|██████████| 938/938 [00:17<00:00, 54.03it/s]\n",
      "Testing Epoch 24/50: 100%|██████████| 157/157 [00:05<00:00, 29.54it/s]\n"
     ]
    },
    {
     "name": "stdout",
     "output_type": "stream",
     "text": [
      "\n",
      "MSE: 0.0059 ; SSIM: 0.7896\n",
      "\n"
     ]
    },
    {
     "name": "stderr",
     "output_type": "stream",
     "text": [
      "Training 25/50: 100%|██████████| 938/938 [00:17<00:00, 54.45it/s]\n",
      "Testing Epoch 25/50: 100%|██████████| 157/157 [00:05<00:00, 28.73it/s]\n"
     ]
    },
    {
     "name": "stdout",
     "output_type": "stream",
     "text": [
      "\n",
      "MSE: 0.0058 ; SSIM: 0.8045\n",
      "\n"
     ]
    },
    {
     "name": "stderr",
     "output_type": "stream",
     "text": [
      "Training 26/50: 100%|██████████| 938/938 [00:17<00:00, 53.42it/s]\n",
      "Testing Epoch 26/50: 100%|██████████| 157/157 [00:05<00:00, 29.22it/s]\n"
     ]
    },
    {
     "name": "stdout",
     "output_type": "stream",
     "text": [
      "\n",
      "MSE: 0.0058 ; SSIM: 0.7966\n",
      "\n"
     ]
    },
    {
     "name": "stderr",
     "output_type": "stream",
     "text": [
      "Training 27/50: 100%|██████████| 938/938 [00:17<00:00, 52.86it/s]\n",
      "Testing Epoch 27/50: 100%|██████████| 157/157 [00:05<00:00, 29.42it/s]\n"
     ]
    },
    {
     "name": "stdout",
     "output_type": "stream",
     "text": [
      "\n",
      "MSE: 0.0059 ; SSIM: 0.7873\n",
      "\n"
     ]
    },
    {
     "name": "stderr",
     "output_type": "stream",
     "text": [
      "Training 28/50: 100%|██████████| 938/938 [00:17<00:00, 53.47it/s]\n",
      "Testing Epoch 28/50: 100%|██████████| 157/157 [00:05<00:00, 29.25it/s]\n"
     ]
    },
    {
     "name": "stdout",
     "output_type": "stream",
     "text": [
      "\n",
      "MSE: 0.0056 ; SSIM: 0.8051\n",
      "\n"
     ]
    },
    {
     "name": "stderr",
     "output_type": "stream",
     "text": [
      "Training 29/50: 100%|██████████| 938/938 [00:17<00:00, 53.75it/s]\n",
      "Testing Epoch 29/50: 100%|██████████| 157/157 [00:05<00:00, 29.44it/s]\n"
     ]
    },
    {
     "name": "stdout",
     "output_type": "stream",
     "text": [
      "\n",
      "MSE: 0.0061 ; SSIM: 0.7925\n",
      "\n"
     ]
    },
    {
     "name": "stderr",
     "output_type": "stream",
     "text": [
      "Training 30/50: 100%|██████████| 938/938 [00:17<00:00, 52.84it/s]\n",
      "Testing Epoch 30/50: 100%|██████████| 157/157 [00:05<00:00, 28.91it/s]\n"
     ]
    },
    {
     "name": "stdout",
     "output_type": "stream",
     "text": [
      "\n",
      "MSE: 0.0055 ; SSIM: 0.7825\n",
      "\n"
     ]
    },
    {
     "name": "stderr",
     "output_type": "stream",
     "text": [
      "Training 31/50: 100%|██████████| 938/938 [00:18<00:00, 51.91it/s]\n",
      "Testing Epoch 31/50: 100%|██████████| 157/157 [00:05<00:00, 28.49it/s]\n"
     ]
    },
    {
     "name": "stdout",
     "output_type": "stream",
     "text": [
      "\n",
      "MSE: 0.0058 ; SSIM: 0.7803\n",
      "\n"
     ]
    },
    {
     "name": "stderr",
     "output_type": "stream",
     "text": [
      "Training 32/50: 100%|██████████| 938/938 [00:17<00:00, 53.12it/s]\n",
      "Testing Epoch 32/50: 100%|██████████| 157/157 [00:05<00:00, 28.31it/s]\n"
     ]
    },
    {
     "name": "stdout",
     "output_type": "stream",
     "text": [
      "\n",
      "MSE: 0.0057 ; SSIM: 0.7989\n",
      "\n"
     ]
    },
    {
     "name": "stderr",
     "output_type": "stream",
     "text": [
      "Training 33/50: 100%|██████████| 938/938 [00:17<00:00, 52.26it/s]\n",
      "Testing Epoch 33/50: 100%|██████████| 157/157 [00:05<00:00, 29.06it/s]\n"
     ]
    },
    {
     "name": "stdout",
     "output_type": "stream",
     "text": [
      "\n",
      "MSE: 0.0055 ; SSIM: 0.8053\n",
      "\n"
     ]
    },
    {
     "name": "stderr",
     "output_type": "stream",
     "text": [
      "Training 34/50: 100%|██████████| 938/938 [00:17<00:00, 52.79it/s]\n",
      "Testing Epoch 34/50: 100%|██████████| 157/157 [00:05<00:00, 29.01it/s]\n"
     ]
    },
    {
     "name": "stdout",
     "output_type": "stream",
     "text": [
      "\n",
      "MSE: 0.0058 ; SSIM: 0.7970\n",
      "\n"
     ]
    },
    {
     "name": "stderr",
     "output_type": "stream",
     "text": [
      "Training 35/50: 100%|██████████| 938/938 [00:17<00:00, 52.23it/s]\n",
      "Testing Epoch 35/50: 100%|██████████| 157/157 [00:05<00:00, 28.97it/s]\n"
     ]
    },
    {
     "name": "stdout",
     "output_type": "stream",
     "text": [
      "\n",
      "MSE: 0.0059 ; SSIM: 0.7757\n",
      "\n"
     ]
    },
    {
     "name": "stderr",
     "output_type": "stream",
     "text": [
      "Training 36/50: 100%|██████████| 938/938 [00:18<00:00, 50.70it/s]\n",
      "Testing Epoch 36/50: 100%|██████████| 157/157 [00:05<00:00, 29.03it/s]\n"
     ]
    },
    {
     "name": "stdout",
     "output_type": "stream",
     "text": [
      "\n",
      "MSE: 0.0059 ; SSIM: 0.7840\n",
      "\n"
     ]
    },
    {
     "name": "stderr",
     "output_type": "stream",
     "text": [
      "Training 37/50: 100%|██████████| 938/938 [00:18<00:00, 52.04it/s]\n",
      "Testing Epoch 37/50: 100%|██████████| 157/157 [00:05<00:00, 28.84it/s]\n"
     ]
    },
    {
     "name": "stdout",
     "output_type": "stream",
     "text": [
      "\n",
      "MSE: 0.0058 ; SSIM: 0.7899\n",
      "\n"
     ]
    },
    {
     "name": "stderr",
     "output_type": "stream",
     "text": [
      "Training 38/50: 100%|██████████| 938/938 [00:17<00:00, 52.18it/s]\n",
      "Testing Epoch 38/50: 100%|██████████| 157/157 [00:05<00:00, 28.71it/s]\n"
     ]
    },
    {
     "name": "stdout",
     "output_type": "stream",
     "text": [
      "\n",
      "MSE: 0.0058 ; SSIM: 0.7965\n",
      "\n"
     ]
    },
    {
     "name": "stderr",
     "output_type": "stream",
     "text": [
      "Training 39/50: 100%|██████████| 938/938 [00:18<00:00, 50.76it/s]\n",
      "Testing Epoch 39/50: 100%|██████████| 157/157 [00:05<00:00, 28.34it/s]\n"
     ]
    },
    {
     "name": "stdout",
     "output_type": "stream",
     "text": [
      "\n",
      "MSE: 0.0056 ; SSIM: 0.7988\n",
      "\n"
     ]
    },
    {
     "name": "stderr",
     "output_type": "stream",
     "text": [
      "Training 40/50: 100%|██████████| 938/938 [00:17<00:00, 52.25it/s]\n",
      "Testing Epoch 40/50: 100%|██████████| 157/157 [00:05<00:00, 29.03it/s]\n"
     ]
    },
    {
     "name": "stdout",
     "output_type": "stream",
     "text": [
      "\n",
      "MSE: 0.0059 ; SSIM: 0.7902\n",
      "\n"
     ]
    },
    {
     "name": "stderr",
     "output_type": "stream",
     "text": [
      "Training 41/50: 100%|██████████| 938/938 [00:17<00:00, 52.28it/s]\n",
      "Testing Epoch 41/50: 100%|██████████| 157/157 [00:05<00:00, 28.89it/s]\n"
     ]
    },
    {
     "name": "stdout",
     "output_type": "stream",
     "text": [
      "\n",
      "MSE: 0.0053 ; SSIM: 0.8062\n",
      "\n"
     ]
    },
    {
     "name": "stderr",
     "output_type": "stream",
     "text": [
      "Training 42/50: 100%|██████████| 938/938 [00:17<00:00, 52.13it/s]\n",
      "Testing Epoch 42/50: 100%|██████████| 157/157 [00:05<00:00, 28.69it/s]\n"
     ]
    },
    {
     "name": "stdout",
     "output_type": "stream",
     "text": [
      "\n",
      "MSE: 0.0057 ; SSIM: 0.7900\n",
      "\n"
     ]
    },
    {
     "name": "stderr",
     "output_type": "stream",
     "text": [
      "Training 43/50: 100%|██████████| 938/938 [00:17<00:00, 52.30it/s]\n",
      "Testing Epoch 43/50: 100%|██████████| 157/157 [00:05<00:00, 28.40it/s]\n"
     ]
    },
    {
     "name": "stdout",
     "output_type": "stream",
     "text": [
      "\n",
      "MSE: 0.0057 ; SSIM: 0.7977\n",
      "\n"
     ]
    },
    {
     "name": "stderr",
     "output_type": "stream",
     "text": [
      "Training 44/50: 100%|██████████| 938/938 [00:18<00:00, 51.91it/s]\n",
      "Testing Epoch 44/50: 100%|██████████| 157/157 [00:05<00:00, 29.05it/s]\n"
     ]
    },
    {
     "name": "stdout",
     "output_type": "stream",
     "text": [
      "\n",
      "MSE: 0.0056 ; SSIM: 0.7924\n",
      "\n"
     ]
    },
    {
     "name": "stderr",
     "output_type": "stream",
     "text": [
      "Training 45/50: 100%|██████████| 938/938 [00:17<00:00, 52.88it/s]\n",
      "Testing Epoch 45/50: 100%|██████████| 157/157 [00:05<00:00, 28.79it/s]\n"
     ]
    },
    {
     "name": "stdout",
     "output_type": "stream",
     "text": [
      "\n",
      "MSE: 0.0056 ; SSIM: 0.7920\n",
      "\n"
     ]
    },
    {
     "name": "stderr",
     "output_type": "stream",
     "text": [
      "Training 46/50: 100%|██████████| 938/938 [00:17<00:00, 52.93it/s]\n",
      "Testing Epoch 46/50: 100%|██████████| 157/157 [00:05<00:00, 29.19it/s]\n"
     ]
    },
    {
     "name": "stdout",
     "output_type": "stream",
     "text": [
      "\n",
      "MSE: 0.0058 ; SSIM: 0.7927\n",
      "\n"
     ]
    },
    {
     "name": "stderr",
     "output_type": "stream",
     "text": [
      "Training 47/50: 100%|██████████| 938/938 [00:17<00:00, 52.35it/s]\n",
      "Testing Epoch 47/50: 100%|██████████| 157/157 [00:05<00:00, 28.97it/s]\n"
     ]
    },
    {
     "name": "stdout",
     "output_type": "stream",
     "text": [
      "\n",
      "MSE: 0.0060 ; SSIM: 0.7661\n",
      "\n"
     ]
    },
    {
     "name": "stderr",
     "output_type": "stream",
     "text": [
      "Training 48/50: 100%|██████████| 938/938 [00:17<00:00, 53.24it/s]\n",
      "Testing Epoch 48/50: 100%|██████████| 157/157 [00:05<00:00, 29.13it/s]\n"
     ]
    },
    {
     "name": "stdout",
     "output_type": "stream",
     "text": [
      "\n",
      "MSE: 0.0056 ; SSIM: 0.7894\n",
      "\n"
     ]
    },
    {
     "name": "stderr",
     "output_type": "stream",
     "text": [
      "Training 49/50: 100%|██████████| 938/938 [00:17<00:00, 52.18it/s]\n",
      "Testing Epoch 49/50: 100%|██████████| 157/157 [00:05<00:00, 28.73it/s]\n"
     ]
    },
    {
     "name": "stdout",
     "output_type": "stream",
     "text": [
      "\n",
      "MSE: 0.0058 ; SSIM: 0.7989\n",
      "\n"
     ]
    },
    {
     "name": "stderr",
     "output_type": "stream",
     "text": [
      "Training 50/50: 100%|██████████| 938/938 [00:17<00:00, 52.76it/s]\n",
      "Testing Epoch 50/50: 100%|██████████| 157/157 [00:05<00:00, 28.47it/s]"
     ]
    },
    {
     "name": "stdout",
     "output_type": "stream",
     "text": [
      "\n",
      "MSE: 0.0058 ; SSIM: 0.7760\n",
      "\n"
     ]
    },
    {
     "name": "stderr",
     "output_type": "stream",
     "text": [
      "\n"
     ]
    }
   ],
   "source": [
    "# Call training loop\n",
    "model = UNet().to(device)         # Initialize UNet model\n",
    "optimizer = optim.Adam(model.parameters(), lr = 0.0001)\n",
    "num_epochs = 50         # Train the model for 50–100 epochs\n",
    "criterion = nn.MSELoss()\n",
    "\n",
    "trainer(\n",
    "    model = model,\n",
    "    optimizer = optimizer,\n",
    "    train_loader = train_dataloader,\n",
    "    test_loader = test_dataloader,\n",
    "    criterion = criterion,\n",
    "    epochs = num_epochs,\n",
    "    device = device\n",
    ")"
   ]
  },
  {
   "cell_type": "code",
   "execution_count": null,
   "metadata": {
    "colab": {
     "base_uri": "https://localhost:8080/"
    },
    "collapsed": true,
    "id": "2FvERwIyQvua",
    "jupyter": {
     "outputs_hidden": true
    },
    "outputId": "bdbddf88-79a5-446a-f5ad-80253f896d6d"
   },
   "outputs": [],
   "source": [
    "# Save and load the trained model to prevent re-training\n",
    "torch.save(model.state_dict(), \"trained_model.pt\")\n",
    "model = UNet().to(device)\n",
    "model.load_state_dict(torch.load(\"trained_model.pt\", map_location = device))\n",
    "model.eval()"
   ]
  },
  {
   "cell_type": "markdown",
   "metadata": {
    "id": "NWZ5D5r_ba4S"
   },
   "source": [
    "## Visualisation"
   ]
  },
  {
   "cell_type": "code",
   "execution_count": 10,
   "metadata": {
    "colab": {
     "base_uri": "https://localhost:8080/",
     "height": 471
    },
    "id": "pxKJAML6UnPL",
    "outputId": "ec80fe27-1139-4bb3-e49a-5bb9d6b6bb24"
   },
   "outputs": [
    {
     "data": {
      "image/png": "[encoded data removed]",
      "text/plain": [
       "<Figure size 1800x800 with 24 Axes>"
      ]
     },
     "metadata": {},
     "output_type": "display_data"
    }
   ],
   "source": [
    "# Plot examples of noisy images and their corresponding denoised outputs\n",
    "model.eval()\n",
    "images, _ = next(iter(test_dataloader))     # Get a batch of test images\n",
    "images = images.to(device)\n",
    "\n",
    "# Add noise at midpoint\n",
    "mid_step = timestep // 2\n",
    "t = torch.full((images.shape[0],), mid_step, device = device, dtype = torch.long)\n",
    "noisy_images, _ = forward_diffusion(images, t)\n",
    "\n",
    "# Predict noise added in diffusion\n",
    "pred_noise = model(noisy_images)\n",
    "\n",
    "# Reconstruct denoised image with scaling parameters\n",
    "scaling = noise_scaling.to(t.device)[t] / signal_scaling.to(t.device)[t]\n",
    "denoised_images = noisy_images - pred_noise * scaling.view(-1, 1, 1, 1)\n",
    "\n",
    "# Plot results\n",
    "num_examples = 8\n",
    "plt.figure(figsize = (18, 8))\n",
    "\n",
    "for i in range(num_examples):\n",
    "    # Original image\n",
    "    plt.subplot(3, num_examples, i + 1)\n",
    "    plt.imshow(images[i].squeeze().cpu(), cmap = \"gray\")\n",
    "    plt.title(\"Original\")\n",
    "    plt.axis(\"off\")\n",
    "\n",
    "    # Noisy image\n",
    "    plt.subplot(3, num_examples, num_examples + i + 1)\n",
    "    plt.imshow(noisy_images[i].squeeze().cpu(), cmap = \"gray\")\n",
    "    plt.title(\"Noisy\")\n",
    "    plt.axis(\"off\")\n",
    "\n",
    "    # Denoised image\n",
    "    plt.subplot(3, num_examples, 2 * num_examples + i + 1)\n",
    "    plt.imshow(denoised_images[i].squeeze().detach().cpu().numpy(), cmap = \"gray\")\n",
    "    plt.title(\"Denoised\")\n",
    "    plt.axis(\"off\")\n",
    "\n",
    "plt.tight_layout()\n",
    "plt.show()"
   ]
  },
  {
   "cell_type": "code",
   "execution_count": 11,
   "metadata": {
    "colab": {
     "base_uri": "https://localhost:8080/",
     "height": 309
    },
    "id": "A8YMWWDttq72",
    "outputId": "e2a65216-7ae3-4b13-91f6-887a7a2ee249"
   },
   "outputs": [
    {
     "data": {
      "image/png": "[encoded data removed]",
      "text/plain": [
       "<Figure size 1800x500 with 3 Axes>"
      ]
     },
     "metadata": {},
     "output_type": "display_data"
    }
   ],
   "source": [
    "# Visualize attention maps from the Transformer module (for multiple heads)\n",
    "images, _ = next(iter(test_dataloader))\n",
    "_ = model(images.to(device))\n",
    "\n",
    "# Extract attention weights from first transformer layer\n",
    "attn_weights = model.transformer.layers[0].attn_weights\n",
    "attn_weights = attn_weights.squeeze().detach().cpu()\n",
    "\n",
    "plt.figure(figsize=(18, 5))\n",
    "\n",
    "# Head 0\n",
    "plt.subplot(1, 3, 1)\n",
    "sns.heatmap(attn_weights[0], cmap=\"viridis\", cbar=False)\n",
    "plt.title(\"Head 0\")\n",
    "plt.xlabel(\"Key Positions\")\n",
    "plt.ylabel(\"Query Positions\")\n",
    "\n",
    "# Head 1\n",
    "plt.subplot(1, 3, 2)\n",
    "sns.heatmap(attn_weights[1], cmap=\"viridis\", cbar=False)\n",
    "plt.title(\"Head 1\")\n",
    "plt.xlabel(\"Key Positions\")\n",
    "plt.ylabel(\"Query Positions\")\n",
    "\n",
    "# Head 2\n",
    "plt.subplot(1, 3, 3)\n",
    "sns.heatmap(attn_weights[2], cmap=\"viridis\", cbar=False)\n",
    "plt.title(\"Head 2\")\n",
    "plt.xlabel(\"Key Positions\")\n",
    "plt.ylabel(\"Query Positions\")\n",
    "\n",
    "plt.tight_layout()\n",
    "plt.show()"
   ]
  }
 ],
 "metadata": {
  "accelerator": "GPU",
  "colab": {
   "gpuType": "A100",
   "provenance": []
  },
  "kernelspec": {
   "display_name": "Python [conda env:base] *",
   "language": "python",
   "name": "conda-base-py"
  },
  "language_info": {
   "codemirror_mode": {
    "name": "ipython",
    "version": 3
   },
   "file_extension": ".py",
   "mimetype": "text/x-python",
   "name": "python",
   "nbconvert_exporter": "python",
   "pygments_lexer": "ipython3",
   "version": "3.12.7"
  }
 },
 "nbformat": 4,
 "nbformat_minor": 4
}
